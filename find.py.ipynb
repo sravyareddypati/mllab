{
 "cells": [
  {
   "cell_type": "code",
   "execution_count": 19,
   "id": "23838d56",
   "metadata": {},
   "outputs": [],
   "source": [
    "import pandas as pd\n",
    "import numpy as np"
   ]
  },
  {
   "cell_type": "code",
   "execution_count": 36,
   "id": "6fa83851",
   "metadata": {},
   "outputs": [
    {
     "name": "stdout",
     "output_type": "stream",
     "text": [
      "      time weather temperature company humidity    wind goes\n",
      "0  morning   sunny        warm     Yes     Mild  Strong  Yes\n",
      "1  evening   rainy        cold      No     MIld  Normal   No\n",
      "2  morning   sunny    moderate     Yes   Normal  Normal  Yes\n",
      "3  evening   sunny        cold     Yes     High  Strong  Yes n\n"
     ]
    }
   ],
   "source": [
    "data = pd.read_csv(\"data2.csv\")\n",
    "print(data,\"n\")\n",
    " "
   ]
  },
  {
   "cell_type": "code",
   "execution_count": 37,
   "id": "9af2698c",
   "metadata": {},
   "outputs": [
    {
     "name": "stdout",
     "output_type": "stream",
     "text": [
      "n The attributes are:  [['morning' 'sunny' 'warm' 'Yes' 'Mild' 'Strong']\n",
      " ['evening' 'rainy' 'cold' 'No' 'MIld' 'Normal']\n",
      " ['morning' 'sunny' 'moderate' 'Yes' 'Normal' 'Normal']\n",
      " ['evening' 'sunny' 'cold' 'Yes' 'High' 'Strong']]\n"
     ]
    }
   ],
   "source": [
    "d = np.array(data)[:,:-1]\n",
    "print(\"n The attributes are: \",d)\n"
   ]
  },
  {
   "cell_type": "code",
   "execution_count": 39,
   "id": "422cf7e5",
   "metadata": {},
   "outputs": [
    {
     "name": "stdout",
     "output_type": "stream",
     "text": [
      "n The target is:  ['Yes' 'No' 'Yes' 'Yes']\n"
     ]
    }
   ],
   "source": [
    "target = np.array(data)[:,-1]\n",
    "print(\"n The target is: \",target)"
   ]
  },
  {
   "cell_type": "code",
   "execution_count": 40,
   "id": "6c52e657",
   "metadata": {},
   "outputs": [],
   "source": [
    "def train(c,t):\n",
    "    for i, val in enumerate(t):\n",
    "        if val == \"Yes\":\n",
    "            specific_hypothesis = c[i].copy()\n",
    "            break\n",
    "             \n",
    "    for i, val in enumerate(c):\n",
    "        if t[i] == \"Yes\":\n",
    "            for x in range(len(specific_hypothesis)):\n",
    "                if val[x] != specific_hypothesis[x]:\n",
    "                    specific_hypothesis[x] = '?'\n",
    "                else:\n",
    "                    pass\n",
    "                 \n",
    "    return specific_hypothesis\n",
    " \n"
   ]
  },
  {
   "cell_type": "code",
   "execution_count": 41,
   "id": "b3fd0b99",
   "metadata": {},
   "outputs": [
    {
     "name": "stdout",
     "output_type": "stream",
     "text": [
      "n The final hypothesis is: ['?' 'sunny' '?' 'Yes' '?' '?']\n"
     ]
    }
   ],
   "source": [
    "print(\"n The final hypothesis is:\",train(d,target))"
   ]
  },
  {
   "cell_type": "code",
   "execution_count": null,
   "id": "1ccceb6a",
   "metadata": {},
   "outputs": [],
   "source": []
  },
  {
   "cell_type": "code",
   "execution_count": null,
   "id": "d2921aa3",
   "metadata": {},
   "outputs": [],
   "source": []
  }
 ],
 "metadata": {
  "kernelspec": {
   "display_name": "Python 3",
   "language": "python",
   "name": "python3"
  },
  "language_info": {
   "codemirror_mode": {
    "name": "ipython",
    "version": 3
   },
   "file_extension": ".py",
   "mimetype": "text/x-python",
   "name": "python",
   "nbconvert_exporter": "python",
   "pygments_lexer": "ipython3",
   "version": "3.6.8"
  }
 },
 "nbformat": 4,
 "nbformat_minor": 5
}
